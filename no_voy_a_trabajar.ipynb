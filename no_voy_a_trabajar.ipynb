{
  "nbformat": 4,
  "nbformat_minor": 0,
  "metadata": {
    "colab": {
      "provenance": [],
      "authorship_tag": "ABX9TyPDPtn2EJxHAnKxpkQ6oofY",
      "include_colab_link": true
    },
    "kernelspec": {
      "name": "python3",
      "display_name": "Python 3"
    },
    "language_info": {
      "name": "python"
    }
  },
  "cells": [
    {
      "cell_type": "markdown",
      "metadata": {
        "id": "view-in-github",
        "colab_type": "text"
      },
      "source": [
        "<a href=\"https://colab.research.google.com/github/apicem7217/Clase-3/blob/Phyton/no_voy_a_trabajar.ipynb\" target=\"_parent\"><img src=\"https://colab.research.google.com/assets/colab-badge.svg\" alt=\"Open In Colab\"/></a>"
      ]
    },
    {
      "cell_type": "code",
      "execution_count": 13,
      "metadata": {
        "colab": {
          "base_uri": "https://localhost:8080/"
        },
        "id": "58oF5J5_X9xl",
        "outputId": "e54cbd50-63b1-4ace-f78e-8653c0850c39"
      },
      "outputs": [
        {
          "output_type": "stream",
          "name": "stdout",
          "text": [
            "x\n"
          ]
        }
      ],
      "source": [
        "dia = \"miercoles\"\n",
        "\n",
        "if dia == \"lunes\":\n",
        "  print (\"no voy a trabajar\")\n",
        "elif dia == \"martes\":\n",
        "  print (\"me vale\")\n",
        "elif dia == \"miercoles\":\n",
        "  print (\"x\")\n",
        "elif\n",
        "  print\n",
        "elif\n",
        "  print\n",
        "else:\n",
        "  print (\"fin\")"
      ]
    }
  ]
}