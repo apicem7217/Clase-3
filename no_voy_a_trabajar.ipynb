{
  "cells": [
    {
      "cell_type": "markdown",
      "metadata": {
        "id": "view-in-github",
        "colab_type": "text"
      },
      "source": [
        "<a href=\"https://colab.research.google.com/github/apicem7217/Clase-3/blob/Phyton/no_voy_a_trabajar.ipynb\" target=\"_parent\"><img src=\"https://colab.research.google.com/assets/colab-badge.svg\" alt=\"Open In Colab\"/></a>"
      ]
    },
    {
      "cell_type": "code",
      "execution_count": 4,
      "metadata": {
        "colab": {
          "base_uri": "https://localhost:8080/"
        },
        "id": "58oF5J5_X9xl",
        "outputId": "dfaee3b5-1200-44f7-d352-c224421fe53a"
      },
      "outputs": [
        {
          "output_type": "stream",
          "name": "stdout",
          "text": [
            "Martes, ni te cases ni te embarques\n"
          ]
        }
      ],
      "source": [
        "dia = \"martes\"\n",
        "\n",
        "if dia == \"lunes\":\n",
        "  print (\"No vo' a trabajá\")\n",
        "elif dia == \"martes\":\n",
        "  print (\"Martes, ni te cases ni te embarques\")\n",
        "elif dia == \"miercoles\":\n",
        "  print (\"Miércoles, se casa la patrona\")\n",
        "elif dia == (\"jueves\"):\n",
        "  print (\"Jueves, estoy muy desvelado\")\n",
        "elif dia == (\"viernes\"):\n",
        "  print (\"No voy a trabajar\")\n",
        "else:\n",
        "  print (\"fin\")"
      ]
    }
  ],
  "metadata": {
    "colab": {
      "provenance": [],
      "authorship_tag": "ABX9TyNKa5pwusq+D49I9g08qBvw",
      "include_colab_link": true
    },
    "kernelspec": {
      "display_name": "Python 3",
      "name": "python3"
    },
    "language_info": {
      "name": "python"
    }
  },
  "nbformat": 4,
  "nbformat_minor": 0
}