{
  "cells": [
    {
      "cell_type": "markdown",
      "metadata": {
        "id": "view-in-github",
        "colab_type": "text"
      },
      "source": [
        "<a href=\"https://colab.research.google.com/github/apicem7217/Clase-3/blob/Phyton/Ch03_1_Funciones_Integradas_.ipynb\" target=\"_parent\"><img src=\"https://colab.research.google.com/assets/colab-badge.svg\" alt=\"Open In Colab\"/></a>"
      ]
    },
    {
      "cell_type": "markdown",
      "metadata": {
        "id": "blUwh1Vvl9Zs"
      },
      "source": [
        "## Built-in Functions\n",
        "<a href=\"https://colab.research.google.com/github/rambasnet/FDSPython-Notebooks/blob/master/Ch03-1-Functions-Built-in.ipynb\" target=\"_parent\"><img src=\"https://colab.research.google.com/assets/colab-badge.svg\" alt=\"Open In Colab\"/></a>\n",
        "\n",
        "- named sequence of code that does some specific task or a function\n",
        "\n",
        "- some built-in functions we've used so far: type( ), int( ), float( ), str( ), input( ), print( ), etc.\n",
        "- Python provides a list of built-in functions that are readily available for use:\n",
        "https://docs.python.org/3/library/functions.html\n",
        "- below are examples of some built-in functions that may be useful to know\n",
        "\n",
        "\n",
        "\n",
        "## Funciones integradas\n",
        "<a href=\"https://colab.research.google.com/github/rambasnet/FDSPython-Notebooks/blob/master/Ch03-1-Functions-Built-in.ipynb\" target=\"_parent\"><img src =\"https://colab.research.google.com/assets/colab-badge.svg\" alt=\"Abrir en Colab\"/></a>\n",
        "\n",
        "- secuencia nombrada de código que realiza una tarea específica o una función\n",
        "\n",
        "- algunas funciones integradas que hemos usado hasta ahora: type(), int(), float(), str(), input(), print(), etc.\n",
        "- Python proporciona una lista de funciones integradas que están disponibles para su uso:\n",
        "https://docs.python.org/3/library/functions.html\n",
        "- a continuación hay ejemplos de algunas funciones integradas que pueden ser útiles para saber"
      ]
    },
    {
      "cell_type": "markdown",
      "metadata": {
        "id": "yxHQEleLl9Zu"
      },
      "source": [
        "### bin(x)\n",
        "- converts an integer number to a binary string prefixed with \"0b\"."
      ]
    },
    {
      "cell_type": "code",
      "execution_count": null,
      "metadata": {
        "id": "0pYBY27Dl9Zu",
        "outputId": "dfa2ec7b-2811-496d-9f1b-cdc6946d01d1",
        "colab": {
          "base_uri": "https://localhost:8080/",
          "height": 35
        }
      },
      "outputs": [
        {
          "output_type": "execute_result",
          "data": {
            "text/plain": [
              "'0b11'"
            ],
            "application/vnd.google.colaboratory.intrinsic+json": {
              "type": "string"
            }
          },
          "metadata": {},
          "execution_count": 1
        }
      ],
      "source": [
        "bin(3)"
      ]
    },
    {
      "cell_type": "markdown",
      "metadata": {
        "id": "VW1qYf3xl9Zw"
      },
      "source": [
        "### format(value, format_spec)\n",
        "- formats the give value using format spec"
      ]
    },
    {
      "cell_type": "code",
      "execution_count": null,
      "metadata": {
        "id": "1POtIVFVl9Zw",
        "outputId": "f1bdfa63-252b-4afb-9f57-7a15155420e5",
        "colab": {
          "base_uri": "https://localhost:8080/"
        }
      },
      "outputs": [
        {
          "output_type": "stream",
          "name": "stdout",
          "text": [
            "Help on built-in function format in module builtins:\n",
            "\n",
            "format(value, format_spec='', /)\n",
            "    Return value.__format__(format_spec)\n",
            "    \n",
            "    format_spec defaults to the empty string.\n",
            "    See the Format Specification Mini-Language section of help('FORMATTING') for\n",
            "    details.\n",
            "\n"
          ]
        }
      ],
      "source": [
        "help(format)"
      ]
    },
    {
      "cell_type": "code",
      "execution_count": null,
      "metadata": {
        "id": "eJv334Zml9Zx",
        "outputId": "22decd89-7f97-4663-816d-9e0c9cc962a7",
        "colab": {
          "base_uri": "https://localhost:8080/"
        }
      },
      "outputs": [
        {
          "output_type": "stream",
          "name": "stdout",
          "text": [
            "0b11\n",
            "11\n"
          ]
        }
      ],
      "source": [
        "# If prefix \"0b is desired or not, use either of the following ways\n",
        "print(format(3, '#b'))\n",
        "print(format(3, 'b'))"
      ]
    },
    {
      "cell_type": "markdown",
      "metadata": {
        "id": "IkZNMgQXl9Zx"
      },
      "source": [
        "### chr( uniCode )\n",
        "- returns the string representing a character whose Unicode code point is the integer uniCode\n",
        "- inverse of ord(character)"
      ]
    },
    {
      "cell_type": "code",
      "execution_count": null,
      "metadata": {
        "id": "p00z-3rVl9Zx",
        "outputId": "9dd79b31-75e2-47cb-a55d-58bbb53100d4",
        "colab": {
          "base_uri": "https://localhost:8080/"
        }
      },
      "outputs": [
        {
          "output_type": "stream",
          "name": "stdout",
          "text": [
            "A\n",
            "a\n",
            "€\n",
            "r\n"
          ]
        }
      ],
      "source": [
        "print(chr(65))\n",
        "print(chr(97))\n",
        "print(chr(8364))\n",
        "print(chr(114)) # r"
      ]
    },
    {
      "cell_type": "markdown",
      "metadata": {
        "id": "OjjiHcGll9Zy"
      },
      "source": [
        "### globals() and locals()\n",
        "- globals() returns a dictionary representing the current global symbol table\n",
        "- locals() returns a dictionary representing the current local symbol table\n",
        "\n",
        "\n",
        "### globales() y locales()\n",
        "- globals() devuelve un diccionario que representa la tabla de símbolos global actual\n",
        "- locals() devuelve un diccionario que representa la tabla de símbolos local actual"
      ]
    },
    {
      "cell_type": "code",
      "execution_count": null,
      "metadata": {
        "id": "2-GjdUBbl9Zy",
        "outputId": "3a03f984-9790-4ad6-8afa-c89d3dd0d8ca",
        "colab": {
          "base_uri": "https://localhost:8080/"
        }
      },
      "outputs": [
        {
          "output_type": "execute_result",
          "data": {
            "text/plain": [
              "{'__name__': '__main__',\n",
              " '__doc__': 'Automatically created module for IPython interactive environment',\n",
              " '__package__': None,\n",
              " '__loader__': None,\n",
              " '__spec__': None,\n",
              " '__builtin__': <module 'builtins' (built-in)>,\n",
              " '__builtins__': <module 'builtins' (built-in)>,\n",
              " '_ih': ['',\n",
              "  'bin(3)',\n",
              "  'help(format)',\n",
              "  '# If prefix \"0b is desired or not, use either of the following ways\\nprint(format(3, \\'#b\\'))\\nprint(format(3, \\'b\\'))',\n",
              "  'print(chr(65))\\nprint(chr(97))\\nprint(chr(8364))',\n",
              "  'globals()',\n",
              "  'print(hex(42))\\nprint(hex(-42))',\n",
              "  \"# Other ways\\nprint(format(255, '#x'))\\nprint(format(255, 'x'))\\nprint(format(255, 'X'))\",\n",
              "  'print(oct(100))',\n",
              "  \"print(format(10, '#o'))\\nprint(format(10, 'o'))\",\n",
              "  \"print(ord(' '))\\nprint(ord('~'))\",\n",
              "  'x = 10',\n",
              "  'id(x)',\n",
              "  'print(divmod(7, 3)) # return (quotient, remainder)\\nquotient, remainder = divmod(7, 3)\\nprint(quotient, remainder)',\n",
              "  \"y = 2\\nprint(eval('y**2'))\\nprint(eval('y+2*3'))\",\n",
              "  \"print('max=', max(100, 8.9, 999, 1000.5))\",\n",
              "  \"print('min=', min(100, 8.9, 999, 1000.5))\",\n",
              "  \"print('2 to the power 3 =', pow(2, 3))\",\n",
              "  \"print('hi', 'hello', sep='', end='')\",\n",
              "  \"print('hi', 'hello', sep=' ', end='')\",\n",
              "  \"print('hi', 'hello', sep=' ', end='')\\nprint('next line?')\",\n",
              "  \"print('hi', 'hello', sep='\\\\t', end='\\\\n')\\nprint('next line?')\",\n",
              "  'print(chr(65))\\nprint(chr(97))\\nprint(chr(8364))\\nprint(chr(114))',\n",
              "  'globals()'],\n",
              " '_oh': {1: '0b11', 5: {...}, 12: 138092934382096},\n",
              " '_dh': ['/content'],\n",
              " 'In': ['',\n",
              "  'bin(3)',\n",
              "  'help(format)',\n",
              "  '# If prefix \"0b is desired or not, use either of the following ways\\nprint(format(3, \\'#b\\'))\\nprint(format(3, \\'b\\'))',\n",
              "  'print(chr(65))\\nprint(chr(97))\\nprint(chr(8364))',\n",
              "  'globals()',\n",
              "  'print(hex(42))\\nprint(hex(-42))',\n",
              "  \"# Other ways\\nprint(format(255, '#x'))\\nprint(format(255, 'x'))\\nprint(format(255, 'X'))\",\n",
              "  'print(oct(100))',\n",
              "  \"print(format(10, '#o'))\\nprint(format(10, 'o'))\",\n",
              "  \"print(ord(' '))\\nprint(ord('~'))\",\n",
              "  'x = 10',\n",
              "  'id(x)',\n",
              "  'print(divmod(7, 3)) # return (quotient, remainder)\\nquotient, remainder = divmod(7, 3)\\nprint(quotient, remainder)',\n",
              "  \"y = 2\\nprint(eval('y**2'))\\nprint(eval('y+2*3'))\",\n",
              "  \"print('max=', max(100, 8.9, 999, 1000.5))\",\n",
              "  \"print('min=', min(100, 8.9, 999, 1000.5))\",\n",
              "  \"print('2 to the power 3 =', pow(2, 3))\",\n",
              "  \"print('hi', 'hello', sep='', end='')\",\n",
              "  \"print('hi', 'hello', sep=' ', end='')\",\n",
              "  \"print('hi', 'hello', sep=' ', end='')\\nprint('next line?')\",\n",
              "  \"print('hi', 'hello', sep='\\\\t', end='\\\\n')\\nprint('next line?')\",\n",
              "  'print(chr(65))\\nprint(chr(97))\\nprint(chr(8364))\\nprint(chr(114))',\n",
              "  'globals()'],\n",
              " 'Out': {1: '0b11', 5: {...}, 12: 138092934382096},\n",
              " 'get_ipython': <bound method InteractiveShell.get_ipython of <google.colab._shell.Shell object at 0x7d983c65e1a0>>,\n",
              " 'exit': <IPython.core.autocall.ZMQExitAutocall at 0x7d983c65eb90>,\n",
              " 'quit': <IPython.core.autocall.ZMQExitAutocall at 0x7d983c65eb90>,\n",
              " '_': 138092934382096,\n",
              " '__': {...},\n",
              " '___': '0b11',\n",
              " '_i': 'print(chr(65))\\nprint(chr(97))\\nprint(chr(8364))\\nprint(chr(114))',\n",
              " '_ii': \"print('hi', 'hello', sep='\\\\t', end='\\\\n')\\nprint('next line?')\",\n",
              " '_iii': \"print('hi', 'hello', sep=' ', end='')\\nprint('next line?')\",\n",
              " '_i1': 'bin(3)',\n",
              " '_1': '0b11',\n",
              " '_i2': 'help(format)',\n",
              " '_i3': '# If prefix \"0b is desired or not, use either of the following ways\\nprint(format(3, \\'#b\\'))\\nprint(format(3, \\'b\\'))',\n",
              " '_i4': 'print(chr(65))\\nprint(chr(97))\\nprint(chr(8364))',\n",
              " '_i5': 'globals()',\n",
              " '_5': {...},\n",
              " '_i6': 'print(hex(42))\\nprint(hex(-42))',\n",
              " '_i7': \"# Other ways\\nprint(format(255, '#x'))\\nprint(format(255, 'x'))\\nprint(format(255, 'X'))\",\n",
              " '_i8': 'print(oct(100))',\n",
              " '_i9': \"print(format(10, '#o'))\\nprint(format(10, 'o'))\",\n",
              " '_i10': \"print(ord(' '))\\nprint(ord('~'))\",\n",
              " '_i11': 'x = 10',\n",
              " 'x': 10,\n",
              " '_i12': 'id(x)',\n",
              " '_12': 138092934382096,\n",
              " '_i13': 'print(divmod(7, 3)) # return (quotient, remainder)\\nquotient, remainder = divmod(7, 3)\\nprint(quotient, remainder)',\n",
              " 'quotient': 2,\n",
              " 'remainder': 1,\n",
              " '_i14': \"y = 2\\nprint(eval('y**2'))\\nprint(eval('y+2*3'))\",\n",
              " 'y': 2,\n",
              " '_i15': \"print('max=', max(100, 8.9, 999, 1000.5))\",\n",
              " '_i16': \"print('min=', min(100, 8.9, 999, 1000.5))\",\n",
              " '_i17': \"print('2 to the power 3 =', pow(2, 3))\",\n",
              " '_i18': \"print('hi', 'hello', sep='', end='')\",\n",
              " '_i19': \"print('hi', 'hello', sep=' ', end='')\",\n",
              " '_i20': \"print('hi', 'hello', sep=' ', end='')\\nprint('next line?')\",\n",
              " '_i21': \"print('hi', 'hello', sep='\\\\t', end='\\\\n')\\nprint('next line?')\",\n",
              " '_i22': 'print(chr(65))\\nprint(chr(97))\\nprint(chr(8364))\\nprint(chr(114))',\n",
              " '_i23': 'globals()'}"
            ]
          },
          "metadata": {},
          "execution_count": 23
        }
      ],
      "source": [
        "globals()"
      ]
    },
    {
      "cell_type": "markdown",
      "metadata": {
        "id": "U7dLvrSEl9Zy"
      },
      "source": [
        "### hex(x)\n",
        "- convert an integer number to a lowercase hexadecimal string prefixed with \"0x\""
      ]
    },
    {
      "cell_type": "code",
      "execution_count": null,
      "metadata": {
        "id": "wymrTRb6l9Zy",
        "outputId": "7b56adb5-10e8-421b-d40d-6d032fedf0c6",
        "colab": {
          "base_uri": "https://localhost:8080/"
        }
      },
      "outputs": [
        {
          "output_type": "stream",
          "name": "stdout",
          "text": [
            "0x2a\n",
            "-0x2a\n"
          ]
        }
      ],
      "source": [
        "print(hex(42))\n",
        "print(hex(-42))"
      ]
    },
    {
      "cell_type": "code",
      "execution_count": null,
      "metadata": {
        "id": "5cCLk9KXl9Zz",
        "outputId": "71afd2ac-cbb3-4e89-f7ca-9d95612bd919",
        "colab": {
          "base_uri": "https://localhost:8080/"
        }
      },
      "outputs": [
        {
          "output_type": "stream",
          "name": "stdout",
          "text": [
            "0xff\n",
            "ff\n",
            "FF\n"
          ]
        }
      ],
      "source": [
        "# Other ways\n",
        "print(format(255, '#x'))\n",
        "print(format(255, 'x'))\n",
        "print(format(255, 'X'))"
      ]
    },
    {
      "cell_type": "markdown",
      "metadata": {
        "id": "BuTYqSCfl9Zz"
      },
      "source": [
        "### oct(x)\n",
        "- return an octal string representation with \"0o\" prefix of a given integer x"
      ]
    },
    {
      "cell_type": "code",
      "execution_count": null,
      "metadata": {
        "id": "UwkEEfuhl9Zz",
        "outputId": "a4e81ee4-d307-4aa1-a1c7-6be8529e1bbb",
        "colab": {
          "base_uri": "https://localhost:8080/"
        }
      },
      "outputs": [
        {
          "output_type": "stream",
          "name": "stdout",
          "text": [
            "0o144\n"
          ]
        }
      ],
      "source": [
        "print(oct(100))"
      ]
    },
    {
      "cell_type": "code",
      "execution_count": null,
      "metadata": {
        "id": "WoUSFa4Pl9Zz",
        "outputId": "d898fb8d-ef96-491f-f41a-11dc6835f1ae",
        "colab": {
          "base_uri": "https://localhost:8080/"
        }
      },
      "outputs": [
        {
          "output_type": "stream",
          "name": "stdout",
          "text": [
            "0o12\n",
            "12\n"
          ]
        }
      ],
      "source": [
        "print(format(10, '#o'))\n",
        "print(format(10, 'o'))"
      ]
    },
    {
      "cell_type": "markdown",
      "metadata": {
        "id": "vu2BMOmkl9Z0"
      },
      "source": [
        "### ord(c)\n",
        "- return an integer representing the Unicode code of a given Unicode character"
      ]
    },
    {
      "cell_type": "code",
      "execution_count": null,
      "metadata": {
        "id": "vijCNpfkl9Z0",
        "outputId": "da410306-f210-41a4-d2cc-b7d4e8273373",
        "colab": {
          "base_uri": "https://localhost:8080/"
        }
      },
      "outputs": [
        {
          "output_type": "stream",
          "name": "stdout",
          "text": [
            "32\n",
            "126\n"
          ]
        }
      ],
      "source": [
        "print(ord(' '))\n",
        "print(ord('~'))"
      ]
    },
    {
      "cell_type": "markdown",
      "metadata": {
        "id": "ukCzUznel9Z0"
      },
      "source": [
        "### id(object)\n",
        "- return the 'identity' of an object\n",
        "- guaranteed unique integer and constant thoughout its lifetime"
      ]
    },
    {
      "cell_type": "code",
      "execution_count": null,
      "metadata": {
        "id": "LUD-XGKvl9Z0"
      },
      "outputs": [],
      "source": [
        "x = 10"
      ]
    },
    {
      "cell_type": "code",
      "execution_count": null,
      "metadata": {
        "id": "uGa3APPil9Z0",
        "outputId": "9ddff3c6-f75d-4a4e-f0b0-c7669717cea2",
        "colab": {
          "base_uri": "https://localhost:8080/"
        }
      },
      "outputs": [
        {
          "output_type": "execute_result",
          "data": {
            "text/plain": [
              "138092934382096"
            ]
          },
          "metadata": {},
          "execution_count": 12
        }
      ],
      "source": [
        "id(x)"
      ]
    },
    {
      "cell_type": "markdown",
      "metadata": {
        "id": "9T-qjDZdl9Z1"
      },
      "source": [
        "### divmod(a, b)\n",
        "- given two non-complex numbers as arguments, return a pair of numbers as tuple consisting of their quotient and remainder using integer division"
      ]
    },
    {
      "cell_type": "code",
      "execution_count": null,
      "metadata": {
        "id": "2kxmh-J-l9Z1",
        "outputId": "8624cc31-d5f9-4286-81e0-b55ac8bc8a48",
        "colab": {
          "base_uri": "https://localhost:8080/"
        }
      },
      "outputs": [
        {
          "output_type": "stream",
          "name": "stdout",
          "text": [
            "(2, 1)\n",
            "2 1\n"
          ]
        }
      ],
      "source": [
        "print(divmod(7, 3)) # return (quotient, remainder)\n",
        "quotient, remainder = divmod(7, 3)\n",
        "print(quotient, remainder)"
      ]
    },
    {
      "cell_type": "markdown",
      "metadata": {
        "id": "LH6uLFCql9Z1"
      },
      "source": [
        "### eval(expression, globals=None, locals=None)\n",
        "- the expression argument is parsed and evaluated as Python expression\n",
        "- syntax errors reported as exceptions"
      ]
    },
    {
      "cell_type": "code",
      "execution_count": null,
      "metadata": {
        "id": "XOfxEb08l9Z1",
        "outputId": "73d543d6-ce3d-4dd4-b2e2-535ecb12c6fe",
        "colab": {
          "base_uri": "https://localhost:8080/"
        }
      },
      "outputs": [
        {
          "output_type": "stream",
          "name": "stdout",
          "text": [
            "4\n",
            "8\n"
          ]
        }
      ],
      "source": [
        "y = 2\n",
        "print(eval('y**2'))\n",
        "print(eval('y+2*3'))"
      ]
    },
    {
      "cell_type": "markdown",
      "metadata": {
        "id": "2qkP7zU1l9Z1"
      },
      "source": [
        "### max(iterable, ...) or max(arg1, arg2, ...)\n",
        "- returns the largest item in an iterable or the largest of two or more arguments"
      ]
    },
    {
      "cell_type": "code",
      "execution_count": null,
      "metadata": {
        "id": "EsDE_jyNl9Z1",
        "outputId": "154fc08c-47e3-430a-8f2f-618ac6a22a53",
        "colab": {
          "base_uri": "https://localhost:8080/"
        }
      },
      "outputs": [
        {
          "output_type": "stream",
          "name": "stdout",
          "text": [
            "max= 1000.5\n"
          ]
        }
      ],
      "source": [
        "print('max=', max(100, 8.9, 999, 1000.5))"
      ]
    },
    {
      "cell_type": "markdown",
      "metadata": {
        "id": "SnpL4keel9Z2"
      },
      "source": [
        "### min(arg1, arg2, ...)\n",
        "- returns the smallest of the the arguments (arg1, arg2...)"
      ]
    },
    {
      "cell_type": "code",
      "execution_count": null,
      "metadata": {
        "id": "KCj1RhYrl9Z2",
        "outputId": "bdf0ce73-3fc3-4598-8448-82ee1209db68",
        "colab": {
          "base_uri": "https://localhost:8080/"
        }
      },
      "outputs": [
        {
          "output_type": "stream",
          "name": "stdout",
          "text": [
            "min= 8.9\n"
          ]
        }
      ],
      "source": [
        "print('min=', min(100, 8.9, 999, 1000.5))"
      ]
    },
    {
      "cell_type": "markdown",
      "metadata": {
        "id": "sQd2FGI_l9Z2"
      },
      "source": [
        "### pow(base, exponent)\n",
        "- returns base to the power exponent"
      ]
    },
    {
      "cell_type": "code",
      "execution_count": null,
      "metadata": {
        "id": "s4IHWfNDl9Z2",
        "outputId": "e0840a67-facf-403b-b8f1-7bdd472b10a2",
        "colab": {
          "base_uri": "https://localhost:8080/"
        }
      },
      "outputs": [
        {
          "output_type": "stream",
          "name": "stdout",
          "text": [
            "2 to the power 3 = 8\n"
          ]
        }
      ],
      "source": [
        "print('2 to the power 3 =', pow(2, 3))"
      ]
    },
    {
      "cell_type": "markdown",
      "metadata": {
        "id": "6x5OgOlXl9Z2"
      },
      "source": [
        "### print()\n",
        "- print(*object, sep=' ', end='\\\\n', file=sys.stdout, flush=False)\n",
        "- print takes many arguments and print arbitrary number of values\n",
        "- demo some print examples with different argument values"
      ]
    },
    {
      "cell_type": "code",
      "execution_count": null,
      "metadata": {
        "id": "W4EP9lt5l9Z2",
        "outputId": "7788801a-7ffc-4bfb-93c8-9675b058b567",
        "colab": {
          "base_uri": "https://localhost:8080/"
        }
      },
      "outputs": [
        {
          "output_type": "stream",
          "name": "stdout",
          "text": [
            "hihello"
          ]
        }
      ],
      "source": [
        "print('hi', 'hello', sep='', end='')"
      ]
    },
    {
      "cell_type": "code",
      "execution_count": null,
      "metadata": {
        "id": "i8t6YBWjl9Z3",
        "outputId": "e140ff6f-dded-4b31-e9a2-6fd9a0b21a5d",
        "colab": {
          "base_uri": "https://localhost:8080/"
        }
      },
      "outputs": [
        {
          "output_type": "stream",
          "name": "stdout",
          "text": [
            "hi hello"
          ]
        }
      ],
      "source": [
        "print('hi', 'hello', sep=' ', end='')"
      ]
    },
    {
      "cell_type": "code",
      "execution_count": null,
      "metadata": {
        "id": "Ud3ZojOjl9Z3",
        "outputId": "4f289541-7c14-415a-a175-59669569239c",
        "colab": {
          "base_uri": "https://localhost:8080/"
        }
      },
      "outputs": [
        {
          "output_type": "stream",
          "name": "stdout",
          "text": [
            "hi hellonext line?\n"
          ]
        }
      ],
      "source": [
        "print('hi', 'hello', sep=' ', end='')\n",
        "print('next line?')"
      ]
    },
    {
      "cell_type": "code",
      "execution_count": null,
      "metadata": {
        "id": "oFxrZvEpl9Z3",
        "outputId": "88d4eb35-acda-46b3-8fab-d8e1d3e49822",
        "colab": {
          "base_uri": "https://localhost:8080/"
        }
      },
      "outputs": [
        {
          "output_type": "stream",
          "name": "stdout",
          "text": [
            "hi\thello\n",
            "next line?\n"
          ]
        }
      ],
      "source": [
        "print('hi', 'hello', sep='\\t', end='\\n')\n",
        "print('next line?')"
      ]
    },
    {
      "cell_type": "code",
      "execution_count": null,
      "metadata": {
        "id": "BZe53JnNl9Z3"
      },
      "outputs": [],
      "source": []
    }
  ],
  "metadata": {
    "kernelspec": {
      "display_name": "Python 3",
      "language": "python",
      "name": "python3"
    },
    "language_info": {
      "codemirror_mode": {
        "name": "ipython",
        "version": 3
      },
      "file_extension": ".py",
      "mimetype": "text/x-python",
      "name": "python",
      "nbconvert_exporter": "python",
      "pygments_lexer": "ipython3",
      "version": "3.7.3"
    },
    "colab": {
      "provenance": [],
      "include_colab_link": true
    }
  },
  "nbformat": 4,
  "nbformat_minor": 0
}