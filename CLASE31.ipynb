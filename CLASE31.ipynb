{
  "nbformat": 4,
  "nbformat_minor": 0,
  "metadata": {
    "colab": {
      "provenance": [],
      "authorship_tag": "ABX9TyOdi7SB2eTNKv4aeU4UjFx0",
      "include_colab_link": true
    },
    "kernelspec": {
      "name": "python3",
      "display_name": "Python 3"
    },
    "language_info": {
      "name": "python"
    }
  },
  "cells": [
    {
      "cell_type": "markdown",
      "metadata": {
        "id": "view-in-github",
        "colab_type": "text"
      },
      "source": [
        "<a href=\"https://colab.research.google.com/github/apicem7217/Clase-3/blob/Phyton/CLASE31.ipynb\" target=\"_parent\"><img src=\"https://colab.research.google.com/assets/colab-badge.svg\" alt=\"Open In Colab\"/></a>"
      ]
    },
    {
      "cell_type": "code",
      "execution_count": 9,
      "metadata": {
        "id": "CEt2I4bof-CN",
        "colab": {
          "base_uri": "https://localhost:8080/"
        },
        "outputId": "afad9ce1-99aa-4cde-8717-a2c2325c38fd"
      },
      "outputs": [
        {
          "output_type": "execute_result",
          "data": {
            "text/plain": [
              "15"
            ]
          },
          "metadata": {},
          "execution_count": 9
        }
      ],
      "source": [
        "def suma(x, y):\n",
        "    return x + y\n",
        "\n",
        "suma (7,8)\n"
      ]
    },
    {
      "cell_type": "code",
      "source": [
        "resultado = suma(4, 4)"
      ],
      "metadata": {
        "id": "8CLfrdY79wVF"
      },
      "execution_count": 14,
      "outputs": []
    },
    {
      "cell_type": "code",
      "source": [
        "help (round)"
      ],
      "metadata": {
        "colab": {
          "base_uri": "https://localhost:8080/"
        },
        "id": "_RPsS5oh_cvD",
        "outputId": "43454a68-c5e3-47fa-923f-956a3093399c"
      },
      "execution_count": 16,
      "outputs": [
        {
          "output_type": "stream",
          "name": "stdout",
          "text": [
            "Help on built-in function round in module builtins:\n",
            "\n",
            "round(number, ndigits=None)\n",
            "    Round a number to a given precision in decimal digits.\n",
            "    \n",
            "    The return value is an integer if ndigits is omitted or None.  Otherwise\n",
            "    the return value has the same type as the number.  ndigits may be negative.\n",
            "\n"
          ]
        }
      ]
    },
    {
      "cell_type": "markdown",
      "source": [],
      "metadata": {
        "id": "pr5ZjX42ASu3"
      }
    },
    {
      "cell_type": "code",
      "source": [
        "# argymentos\n",
        "\n",
        "def area_cuadrado(lado):\n",
        "  \"\"\"calcula area cuadrado\"\"\"\n",
        "  pass\n",
        "  return lado **2\n",
        "print (\"area\")\n",
        "area_cuadrado(3)"
      ],
      "metadata": {
        "colab": {
          "base_uri": "https://localhost:8080/"
        },
        "id": "O0dYOKCXATt9",
        "outputId": "d5ef8cd2-a0ef-4d9a-e628-0260ddcd40d2"
      },
      "execution_count": 28,
      "outputs": [
        {
          "output_type": "stream",
          "name": "stdout",
          "text": [
            "area\n"
          ]
        },
        {
          "output_type": "execute_result",
          "data": {
            "text/plain": [
              "9"
            ]
          },
          "metadata": {},
          "execution_count": 28
        }
      ]
    },
    {
      "cell_type": "code",
      "source": [],
      "metadata": {
        "id": "GWksxZvpCDKw"
      },
      "execution_count": null,
      "outputs": []
    },
    {
      "cell_type": "code",
      "source": [
        "# nivel 2\n",
        "def area_cuadrado(lado):\n",
        "  \"\"\"calcula area cuadrado\"\"\"\n",
        "  pass\n",
        "  return lado **2\n",
        "print (\"area\")\n",
        "area_cuadrado(3)\n"
      ],
      "metadata": {
        "id": "zw3c9ZMVCDiC"
      },
      "execution_count": null,
      "outputs": []
    },
    {
      "cell_type": "code",
      "source": [
        "# ejercicio rectangulo\n",
        "def area_rectangulo(lado1, lado2):\n",
        "  \"\"\"calculo de rectangulo\"\"\"\n",
        "  pass\n",
        "  return lado1 * lado2\n",
        "\n",
        "print(\"area\")\n",
        "area_rectangulo(3, 4)\n"
      ],
      "metadata": {
        "colab": {
          "base_uri": "https://localhost:8080/"
        },
        "id": "zsRNEFxdCdA-",
        "outputId": "6a92e57e-7702-49f9-a597-e340727cdf3a"
      },
      "execution_count": 45,
      "outputs": [
        {
          "output_type": "stream",
          "name": "stdout",
          "text": [
            "area\n"
          ]
        },
        {
          "output_type": "execute_result",
          "data": {
            "text/plain": [
              "12"
            ]
          },
          "metadata": {},
          "execution_count": 45
        }
      ]
    },
    {
      "cell_type": "code",
      "source": [
        "print (\"def perimetro\")\n",
        "def perimetro_rectangulo(lado1, lado2):\n",
        "  \"\"\"perimetro rectangulo\"\"\"\n",
        "  pass\n",
        "  return lado1 *2+ lado2 *2\n",
        "\n",
        "print (\"perimetro\")\n",
        "perimetro_rectangulo(3,4)"
      ],
      "metadata": {
        "colab": {
          "base_uri": "https://localhost:8080/"
        },
        "id": "QdD_ZJY4Esjm",
        "outputId": "ffe1f7f1-0dbb-4299-a9ac-7dc91b47a1e9"
      },
      "execution_count": 46,
      "outputs": [
        {
          "output_type": "stream",
          "name": "stdout",
          "text": [
            "def perimetro\n",
            "perimetro\n"
          ]
        },
        {
          "output_type": "execute_result",
          "data": {
            "text/plain": [
              "14"
            ]
          },
          "metadata": {},
          "execution_count": 46
        }
      ]
    }
  ]
}